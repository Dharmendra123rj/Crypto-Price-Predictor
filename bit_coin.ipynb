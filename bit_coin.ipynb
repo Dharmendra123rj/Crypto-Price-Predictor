{
 "cells": [
  {
   "cell_type": "code",
   "execution_count": 1,
   "id": "4195b2b5-eb69-4c3b-a371-ac34d6713685",
   "metadata": {
    "tags": []
   },
   "outputs": [],
   "source": [
    "import yfinance as yf\n",
    "# BTC-USD\n",
    "import numpy as np\n",
    "import pandas as pd\n",
    "from matplotlib import pyplot as plt"
   ]
  },
  {
   "cell_type": "code",
   "execution_count": 2,
   "id": "39619c4a-b241-4e46-8cdd-ce33ee496ce5",
   "metadata": {
    "tags": []
   },
   "outputs": [
    {
     "name": "stderr",
     "output_type": "stream",
     "text": [
      "\n",
      "*********************100%%**********************]  1 of 1 completed"
     ]
    },
    {
     "data": {
      "text/html": [
       "<div>\n",
       "<style scoped>\n",
       "    .dataframe tbody tr th:only-of-type {\n",
       "        vertical-align: middle;\n",
       "    }\n",
       "\n",
       "    .dataframe tbody tr th {\n",
       "        vertical-align: top;\n",
       "    }\n",
       "\n",
       "    .dataframe thead th {\n",
       "        text-align: right;\n",
       "    }\n",
       "</style>\n",
       "<table border=\"1\" class=\"dataframe\">\n",
       "  <thead>\n",
       "    <tr style=\"text-align: right;\">\n",
       "      <th></th>\n",
       "      <th>Open</th>\n",
       "      <th>High</th>\n",
       "      <th>Low</th>\n",
       "      <th>Close</th>\n",
       "      <th>Adj Close</th>\n",
       "      <th>Volume</th>\n",
       "    </tr>\n",
       "    <tr>\n",
       "      <th>Date</th>\n",
       "      <th></th>\n",
       "      <th></th>\n",
       "      <th></th>\n",
       "      <th></th>\n",
       "      <th></th>\n",
       "      <th></th>\n",
       "    </tr>\n",
       "  </thead>\n",
       "  <tbody>\n",
       "    <tr>\n",
       "      <th>2015-02-10</th>\n",
       "      <td>220.281998</td>\n",
       "      <td>221.807007</td>\n",
       "      <td>215.332001</td>\n",
       "      <td>219.839005</td>\n",
       "      <td>219.839005</td>\n",
       "      <td>21115100</td>\n",
       "    </tr>\n",
       "    <tr>\n",
       "      <th>2015-02-11</th>\n",
       "      <td>219.731995</td>\n",
       "      <td>223.406006</td>\n",
       "      <td>218.074005</td>\n",
       "      <td>219.184998</td>\n",
       "      <td>219.184998</td>\n",
       "      <td>17201900</td>\n",
       "    </tr>\n",
       "    <tr>\n",
       "      <th>2015-02-12</th>\n",
       "      <td>219.207993</td>\n",
       "      <td>222.199005</td>\n",
       "      <td>217.613998</td>\n",
       "      <td>221.764008</td>\n",
       "      <td>221.764008</td>\n",
       "      <td>15206200</td>\n",
       "    </tr>\n",
       "    <tr>\n",
       "      <th>2015-02-13</th>\n",
       "      <td>221.968994</td>\n",
       "      <td>240.259003</td>\n",
       "      <td>221.261993</td>\n",
       "      <td>235.427002</td>\n",
       "      <td>235.427002</td>\n",
       "      <td>42744400</td>\n",
       "    </tr>\n",
       "    <tr>\n",
       "      <th>2015-02-14</th>\n",
       "      <td>235.528000</td>\n",
       "      <td>259.808014</td>\n",
       "      <td>235.528000</td>\n",
       "      <td>257.321014</td>\n",
       "      <td>257.321014</td>\n",
       "      <td>49732500</td>\n",
       "    </tr>\n",
       "  </tbody>\n",
       "</table>\n",
       "</div>"
      ],
      "text/plain": [
       "                  Open        High         Low       Close   Adj Close  \\\n",
       "Date                                                                     \n",
       "2015-02-10  220.281998  221.807007  215.332001  219.839005  219.839005   \n",
       "2015-02-11  219.731995  223.406006  218.074005  219.184998  219.184998   \n",
       "2015-02-12  219.207993  222.199005  217.613998  221.764008  221.764008   \n",
       "2015-02-13  221.968994  240.259003  221.261993  235.427002  235.427002   \n",
       "2015-02-14  235.528000  259.808014  235.528000  257.321014  257.321014   \n",
       "\n",
       "              Volume  \n",
       "Date                  \n",
       "2015-02-10  21115100  \n",
       "2015-02-11  17201900  \n",
       "2015-02-12  15206200  \n",
       "2015-02-13  42744400  \n",
       "2015-02-14  49732500  "
      ]
     },
     "execution_count": 2,
     "metadata": {},
     "output_type": "execute_result"
    }
   ],
   "source": [
    "from datetime import datetime\n",
    "end = datetime.now()\n",
    "start = datetime(end.year-10, end.month, end.day)\n",
    "stock = \"BTC-USD\"\n",
    "bit_coin_data = yf.download(stock, start, end)\n",
    "bit_coin_data.head()"
   ]
  },
  {
   "cell_type": "code",
   "execution_count": 3,
   "id": "55dae494-fc1c-4dc6-a1f5-3d56946f50f2",
   "metadata": {
    "tags": []
   },
   "outputs": [
    {
     "data": {
      "text/html": [
       "<div>\n",
       "<style scoped>\n",
       "    .dataframe tbody tr th:only-of-type {\n",
       "        vertical-align: middle;\n",
       "    }\n",
       "\n",
       "    .dataframe tbody tr th {\n",
       "        vertical-align: top;\n",
       "    }\n",
       "\n",
       "    .dataframe thead th {\n",
       "        text-align: right;\n",
       "    }\n",
       "</style>\n",
       "<table border=\"1\" class=\"dataframe\">\n",
       "  <thead>\n",
       "    <tr style=\"text-align: right;\">\n",
       "      <th></th>\n",
       "      <th>Open</th>\n",
       "      <th>High</th>\n",
       "      <th>Low</th>\n",
       "      <th>Close</th>\n",
       "      <th>Adj Close</th>\n",
       "      <th>Volume</th>\n",
       "    </tr>\n",
       "  </thead>\n",
       "  <tbody>\n",
       "    <tr>\n",
       "      <th>count</th>\n",
       "      <td>3653.000000</td>\n",
       "      <td>3653.000000</td>\n",
       "      <td>3653.000000</td>\n",
       "      <td>3653.000000</td>\n",
       "      <td>3653.000000</td>\n",
       "      <td>3.653000e+03</td>\n",
       "    </tr>\n",
       "    <tr>\n",
       "      <th>mean</th>\n",
       "      <td>21205.494880</td>\n",
       "      <td>21680.539059</td>\n",
       "      <td>20711.003052</td>\n",
       "      <td>21230.659395</td>\n",
       "      <td>21230.659395</td>\n",
       "      <td>1.971076e+10</td>\n",
       "    </tr>\n",
       "    <tr>\n",
       "      <th>std</th>\n",
       "      <td>23559.036150</td>\n",
       "      <td>24070.306461</td>\n",
       "      <td>23033.979338</td>\n",
       "      <td>23587.949869</td>\n",
       "      <td>23587.949869</td>\n",
       "      <td>2.077417e+10</td>\n",
       "    </tr>\n",
       "    <tr>\n",
       "      <th>min</th>\n",
       "      <td>210.067993</td>\n",
       "      <td>221.807007</td>\n",
       "      <td>199.567001</td>\n",
       "      <td>210.494995</td>\n",
       "      <td>210.494995</td>\n",
       "      <td>1.060090e+07</td>\n",
       "    </tr>\n",
       "    <tr>\n",
       "      <th>25%</th>\n",
       "      <td>3257.610107</td>\n",
       "      <td>3422.760010</td>\n",
       "      <td>3206.542236</td>\n",
       "      <td>3313.677246</td>\n",
       "      <td>3313.677246</td>\n",
       "      <td>1.517710e+09</td>\n",
       "    </tr>\n",
       "    <tr>\n",
       "      <th>50%</th>\n",
       "      <td>9937.070312</td>\n",
       "      <td>10210.052734</td>\n",
       "      <td>9716.656250</td>\n",
       "      <td>10005.000000</td>\n",
       "      <td>10005.000000</td>\n",
       "      <td>1.610444e+10</td>\n",
       "    </tr>\n",
       "    <tr>\n",
       "      <th>75%</th>\n",
       "      <td>34500.078125</td>\n",
       "      <td>35284.343750</td>\n",
       "      <td>33424.859375</td>\n",
       "      <td>34502.820312</td>\n",
       "      <td>34502.820312</td>\n",
       "      <td>3.076755e+10</td>\n",
       "    </tr>\n",
       "    <tr>\n",
       "      <th>max</th>\n",
       "      <td>106147.296875</td>\n",
       "      <td>109114.882812</td>\n",
       "      <td>105291.734375</td>\n",
       "      <td>106146.265625</td>\n",
       "      <td>106146.265625</td>\n",
       "      <td>3.509679e+11</td>\n",
       "    </tr>\n",
       "  </tbody>\n",
       "</table>\n",
       "</div>"
      ],
      "text/plain": [
       "                Open           High            Low          Close  \\\n",
       "count    3653.000000    3653.000000    3653.000000    3653.000000   \n",
       "mean    21205.494880   21680.539059   20711.003052   21230.659395   \n",
       "std     23559.036150   24070.306461   23033.979338   23587.949869   \n",
       "min       210.067993     221.807007     199.567001     210.494995   \n",
       "25%      3257.610107    3422.760010    3206.542236    3313.677246   \n",
       "50%      9937.070312   10210.052734    9716.656250   10005.000000   \n",
       "75%     34500.078125   35284.343750   33424.859375   34502.820312   \n",
       "max    106147.296875  109114.882812  105291.734375  106146.265625   \n",
       "\n",
       "           Adj Close        Volume  \n",
       "count    3653.000000  3.653000e+03  \n",
       "mean    21230.659395  1.971076e+10  \n",
       "std     23587.949869  2.077417e+10  \n",
       "min       210.494995  1.060090e+07  \n",
       "25%      3313.677246  1.517710e+09  \n",
       "50%     10005.000000  1.610444e+10  \n",
       "75%     34502.820312  3.076755e+10  \n",
       "max    106146.265625  3.509679e+11  "
      ]
     },
     "execution_count": 3,
     "metadata": {},
     "output_type": "execute_result"
    }
   ],
   "source": [
    "bit_coin_data.describe()"
   ]
  },
  {
   "cell_type": "code",
   "execution_count": 4,
   "id": "eeb69dff-134f-4232-9b30-49a13a21e779",
   "metadata": {
    "tags": []
   },
   "outputs": [
    {
     "name": "stdout",
     "output_type": "stream",
     "text": [
      "<class 'pandas.core.frame.DataFrame'>\n",
      "DatetimeIndex: 3653 entries, 2015-02-10 to 2025-02-10\n",
      "Data columns (total 6 columns):\n",
      " #   Column     Non-Null Count  Dtype  \n",
      "---  ------     --------------  -----  \n",
      " 0   Open       3653 non-null   float64\n",
      " 1   High       3653 non-null   float64\n",
      " 2   Low        3653 non-null   float64\n",
      " 3   Close      3653 non-null   float64\n",
      " 4   Adj Close  3653 non-null   float64\n",
      " 5   Volume     3653 non-null   int64  \n",
      "dtypes: float64(5), int64(1)\n",
      "memory usage: 199.8 KB\n"
     ]
    }
   ],
   "source": [
    "bit_coin_data.info()"
   ]
  },
  {
   "cell_type": "code",
   "execution_count": 5,
   "id": "9ce6e8f6-777f-43bd-ac5b-314934d57946",
   "metadata": {
    "tags": []
   },
   "outputs": [
    {
     "data": {
      "text/plain": [
       "Open         0\n",
       "High         0\n",
       "Low          0\n",
       "Close        0\n",
       "Adj Close    0\n",
       "Volume       0\n",
       "dtype: int64"
      ]
     },
     "execution_count": 5,
     "metadata": {},
     "output_type": "execute_result"
    }
   ],
   "source": [
    "bit_coin_data.isna().sum()"
   ]
  },
  {
   "cell_type": "code",
   "execution_count": 6,
   "id": "a66f41d4-0fe0-4c9f-9e37-41058da23ce3",
   "metadata": {
    "tags": []
   },
   "outputs": [
    {
     "data": {
      "text/html": [
       "<div>\n",
       "<style scoped>\n",
       "    .dataframe tbody tr th:only-of-type {\n",
       "        vertical-align: middle;\n",
       "    }\n",
       "\n",
       "    .dataframe tbody tr th {\n",
       "        vertical-align: top;\n",
       "    }\n",
       "\n",
       "    .dataframe thead th {\n",
       "        text-align: right;\n",
       "    }\n",
       "</style>\n",
       "<table border=\"1\" class=\"dataframe\">\n",
       "  <thead>\n",
       "    <tr style=\"text-align: right;\">\n",
       "      <th></th>\n",
       "      <th>Close</th>\n",
       "    </tr>\n",
       "    <tr>\n",
       "      <th>Date</th>\n",
       "      <th></th>\n",
       "    </tr>\n",
       "  </thead>\n",
       "  <tbody>\n",
       "    <tr>\n",
       "      <th>2015-02-10</th>\n",
       "      <td>219.839005</td>\n",
       "    </tr>\n",
       "    <tr>\n",
       "      <th>2015-02-11</th>\n",
       "      <td>219.184998</td>\n",
       "    </tr>\n",
       "    <tr>\n",
       "      <th>2015-02-12</th>\n",
       "      <td>221.764008</td>\n",
       "    </tr>\n",
       "    <tr>\n",
       "      <th>2015-02-13</th>\n",
       "      <td>235.427002</td>\n",
       "    </tr>\n",
       "    <tr>\n",
       "      <th>2015-02-14</th>\n",
       "      <td>257.321014</td>\n",
       "    </tr>\n",
       "    <tr>\n",
       "      <th>...</th>\n",
       "      <td>...</td>\n",
       "    </tr>\n",
       "    <tr>\n",
       "      <th>2025-02-05</th>\n",
       "      <td>96615.445312</td>\n",
       "    </tr>\n",
       "    <tr>\n",
       "      <th>2025-02-06</th>\n",
       "      <td>96593.296875</td>\n",
       "    </tr>\n",
       "    <tr>\n",
       "      <th>2025-02-07</th>\n",
       "      <td>96529.085938</td>\n",
       "    </tr>\n",
       "    <tr>\n",
       "      <th>2025-02-08</th>\n",
       "      <td>96482.453125</td>\n",
       "    </tr>\n",
       "    <tr>\n",
       "      <th>2025-02-10</th>\n",
       "      <td>97030.773438</td>\n",
       "    </tr>\n",
       "  </tbody>\n",
       "</table>\n",
       "<p>3653 rows × 1 columns</p>\n",
       "</div>"
      ],
      "text/plain": [
       "                   Close\n",
       "Date                    \n",
       "2015-02-10    219.839005\n",
       "2015-02-11    219.184998\n",
       "2015-02-12    221.764008\n",
       "2015-02-13    235.427002\n",
       "2015-02-14    257.321014\n",
       "...                  ...\n",
       "2025-02-05  96615.445312\n",
       "2025-02-06  96593.296875\n",
       "2025-02-07  96529.085938\n",
       "2025-02-08  96482.453125\n",
       "2025-02-10  97030.773438\n",
       "\n",
       "[3653 rows x 1 columns]"
      ]
     },
     "execution_count": 6,
     "metadata": {},
     "output_type": "execute_result"
    }
   ],
   "source": [
    "Closing_price = bit_coin_data[['Close']]\n",
    "Closing_price"
   ]
  },
  {
   "cell_type": "code",
   "execution_count": 7,
   "id": "c57da633-8211-44c0-b124-df69a3efa3d2",
   "metadata": {
    "tags": []
   },
   "outputs": [
    {
     "data": {
      "text/plain": [
       "Text(0.5, 1.0, 'Close price of Bit Coin')"
      ]
     },
     "execution_count": 7,
     "metadata": {},
     "output_type": "execute_result"
    },
    {
     "data": {
      "image/png": "[encoded data removed]",
      "text/plain": [
       "<Figure size 1500x500 with 1 Axes>"
      ]
     },
     "metadata": {},
     "output_type": "display_data"
    }
   ],
   "source": [
    "plt.figure(figsize=(15,5))\n",
    "Closing_price['Close'].plot()\n",
    "plt.xlabel('Years')\n",
    "plt.ylabel('Close Price')\n",
    "plt.title('Close price of Bit Coin')"
   ]
  },
  {
   "cell_type": "code",
   "execution_count": 8,
   "id": "921b9b71-d032-48ef-ab3e-8991f7b73191",
   "metadata": {},
   "outputs": [
    {
     "name": "stdout",
     "output_type": "stream",
     "text": [
      "[None, None, None, None, 3.0, 4.0, 5.0, 6.0, 7.0, 8.0]\n"
     ]
    }
   ],
   "source": [
    "# Assuming you have a list of values\n",
    "data = [1, 2, 3, 4, 5, 6, 7, 8, 9, 10]\n",
    "\n",
    "# Calculate the 5-day moving average\n",
    "ma5 = []\n",
    "for i in range(len(data)):\n",
    "    if i < 4:\n",
    "        ma5.append(None)  # Or any other appropriate placeholder\n",
    "    else:\n",
    "        window = data[i-4:i+1]\n",
    "        average = sum(window) / len(window)\n",
    "        ma5.append(average)\n",
    "\n",
    "print(ma5)\n"
   ]
  },
  {
   "cell_type": "code",
   "execution_count": 9,
   "id": "52ab0ce7-0df6-4b99-aa3b-087f822d24f6",
   "metadata": {
    "tags": []
   },
   "outputs": [
    {
     "data": {
      "text/plain": [
       "4"
      ]
     },
     "execution_count": 9,
     "metadata": {},
     "output_type": "execute_result"
    }
   ],
   "source": [
    "(2+3+4+5+6)//5"
   ]
  },
  {
   "cell_type": "code",
   "execution_count": 10,
   "id": "955fd3ff-11c9-477c-91f6-e935bac04135",
   "metadata": {
    "tags": []
   },
   "outputs": [
    {
     "name": "stdout",
     "output_type": "stream",
     "text": [
      "0\n",
      "325\n",
      "366\n",
      "365\n",
      "365\n",
      "365\n",
      "366\n",
      "365\n",
      "365\n",
      "365\n"
     ]
    }
   ],
   "source": [
    "for i in range(2014,2024):\n",
    "    print(list(Closing_price.index.year).count(i))"
   ]
  },
  {
   "cell_type": "code",
   "execution_count": 11,
   "id": "3928684c-dcda-4c21-a55c-0089b34da4e9",
   "metadata": {
    "tags": []
   },
   "outputs": [
    {
     "name": "stderr",
     "output_type": "stream",
     "text": [
      "C:\\Users\\hp\\AppData\\Local\\Temp\\ipykernel_23072\\686540890.py:1: SettingWithCopyWarning: \n",
      "A value is trying to be set on a copy of a slice from a DataFrame.\n",
      "Try using .loc[row_indexer,col_indexer] = value instead\n",
      "\n",
      "See the caveats in the documentation: https://pandas.pydata.org/pandas-docs/stable/user_guide/indexing.html#returning-a-view-versus-a-copy\n",
      "  Closing_price['MA_for_365_days'] = Closing_price['Close'].rolling(365).mean()\n"
     ]
    },
    {
     "data": {
      "text/plain": [
       "Date\n",
       "2015-02-10   NaN\n",
       "2015-02-11   NaN\n",
       "2015-02-12   NaN\n",
       "2015-02-13   NaN\n",
       "2015-02-14   NaN\n",
       "Name: MA_for_365_days, dtype: float64"
      ]
     },
     "execution_count": 11,
     "metadata": {},
     "output_type": "execute_result"
    }
   ],
   "source": [
    "Closing_price['MA_for_365_days'] = Closing_price['Close'].rolling(365).mean()\n",
    "Closing_price['MA_for_365_days'].head()"
   ]
  },
  {
   "cell_type": "code",
   "execution_count": 12,
   "id": "5450e8bb-8782-40a7-b84e-a1d9eed94eb1",
   "metadata": {
    "tags": []
   },
   "outputs": [
    {
     "data": {
      "text/plain": [
       "Date\n",
       "2016-02-05           NaN\n",
       "2016-02-06           NaN\n",
       "2016-02-07           NaN\n",
       "2016-02-08           NaN\n",
       "2016-02-09    289.960666\n",
       "Name: MA_for_365_days, dtype: float64"
      ]
     },
     "execution_count": 12,
     "metadata": {},
     "output_type": "execute_result"
    }
   ],
   "source": [
    "Closing_price['MA_for_365_days'][0:365].tail()"
   ]
  },
  {
   "cell_type": "code",
   "execution_count": 13,
   "id": "92c04754-4693-4db2-9ecc-a0a9bf3b66bf",
   "metadata": {
    "tags": []
   },
   "outputs": [
    {
     "data": {
      "text/plain": [
       "Text(0.5, 1.0, 'Close price of Bit Coin')"
      ]
     },
     "execution_count": 13,
     "metadata": {},
     "output_type": "execute_result"
    },
    {
     "data": {
      "text/plain": [
       "<Figure size 640x480 with 0 Axes>"
      ]
     },
     "metadata": {},
     "output_type": "display_data"
    },
    {
     "data": {
      "image/png": "[encoded data removed]",
      "text/plain": [
       "<Figure size 1500x600 with 1 Axes>"
      ]
     },
     "metadata": {},
     "output_type": "display_data"
    }
   ],
   "source": [
    "plt.figure()\n",
    "Closing_price[['Close','MA_for_365_days']].plot(figsize=(15,6))\n",
    "plt.xlabel('Years')\n",
    "plt.ylabel('Close Price')\n",
    "plt.title('Close price of Bit Coin')"
   ]
  },
  {
   "cell_type": "code",
   "execution_count": 14,
   "id": "3f72cf55-972a-4fae-874a-5af4f7462a8e",
   "metadata": {
    "tags": []
   },
   "outputs": [
    {
     "name": "stderr",
     "output_type": "stream",
     "text": [
      "C:\\Users\\hp\\AppData\\Local\\Temp\\ipykernel_23072\\1013624105.py:1: SettingWithCopyWarning: \n",
      "A value is trying to be set on a copy of a slice from a DataFrame.\n",
      "Try using .loc[row_indexer,col_indexer] = value instead\n",
      "\n",
      "See the caveats in the documentation: https://pandas.pydata.org/pandas-docs/stable/user_guide/indexing.html#returning-a-view-versus-a-copy\n",
      "  Closing_price['MA_for_100_days'] = Closing_price['Close'].rolling(100).mean()\n"
     ]
    },
    {
     "data": {
      "text/plain": [
       "Text(0.5, 1.0, 'Close price of Bit Coin')"
      ]
     },
     "execution_count": 14,
     "metadata": {},
     "output_type": "execute_result"
    },
    {
     "data": {
      "text/plain": [
       "<Figure size 640x480 with 0 Axes>"
      ]
     },
     "metadata": {},
     "output_type": "display_data"
    },
    {
     "data": {
      "image/png": "[encoded data removed]",
      "text/plain": [
       "<Figure size 1500x600 with 1 Axes>"
      ]
     },
     "metadata": {},
     "output_type": "display_data"
    }
   ],
   "source": [
    "Closing_price['MA_for_100_days'] = Closing_price['Close'].rolling(100).mean()\n",
    "Closing_price['MA_for_100_days'].head()\n",
    "plt.figure()\n",
    "Closing_price[['Close','MA_for_100_days']].plot(figsize=(15,6))\n",
    "plt.xlabel('Years')\n",
    "plt.ylabel('Close Price')\n",
    "plt.title('Close price of Bit Coin')"
   ]
  },
  {
   "cell_type": "code",
   "execution_count": 15,
   "id": "53e4ddad-b0f8-4dbf-bbdf-5982eb13664a",
   "metadata": {
    "tags": []
   },
   "outputs": [],
   "source": [
    "# 1 to 100 ==> 101 day\n",
    "# 2 to 101 (100 days) ==> 102 day\n",
    "# 3 to 102 (100 days) ==> 103rd day future days close price using our model"
   ]
  },
  {
   "cell_type": "code",
   "execution_count": 16,
   "id": "602a250f-93e4-45c6-9349-10cfb7ef1ae7",
   "metadata": {
    "tags": []
   },
   "outputs": [
    {
     "data": {
      "text/plain": [
       "array([[8.82044785e-05],\n",
       "       [8.20308607e-05],\n",
       "       [1.06375895e-04],\n",
       "       ...,\n",
       "       [9.09216881e-01],\n",
       "       [9.08776682e-01],\n",
       "       [9.13952651e-01]])"
      ]
     },
     "execution_count": 16,
     "metadata": {},
     "output_type": "execute_result"
    }
   ],
   "source": [
    "from sklearn.preprocessing import MinMaxScaler\n",
    "\n",
    "scaler = MinMaxScaler(feature_range=(0,1))\n",
    "scaled_data = scaler.fit_transform(Closing_price[['Close']].values)\n",
    "scaled_data"
   ]
  },
  {
   "cell_type": "code",
   "execution_count": 17,
   "id": "ad00f910-1ab4-4405-978b-105baf400f6d",
   "metadata": {
    "tags": []
   },
   "outputs": [
    {
     "data": {
      "text/plain": [
       "(3653, 1)"
      ]
     },
     "execution_count": 17,
     "metadata": {},
     "output_type": "execute_result"
    }
   ],
   "source": [
    "scaled_data.shape"
   ]
  },
  {
   "cell_type": "code",
   "execution_count": 18,
   "id": "707d0106-7df8-4c8b-8412-dcfd3c4b9044",
   "metadata": {
    "tags": []
   },
   "outputs": [],
   "source": [
    "x_data = []\n",
    "y_data = []\n",
    "\n",
    "base_days = 100\n",
    "\n",
    "for i in range(base_days,len(scaled_data)):\n",
    "    x_data.append(scaled_data[i-base_days:i])\n",
    "    y_data.append(scaled_data[i])\n",
    "\n",
    "x_data, y_data = np.array(x_data), np.array(y_data)"
   ]
  },
  {
   "cell_type": "code",
   "execution_count": 19,
   "id": "09229f5c-85eb-43e1-9472-49901ef108d7",
   "metadata": {
    "tags": []
   },
   "outputs": [
    {
     "data": {
      "text/plain": [
       "(array([[8.82044785e-05],\n",
       "        [8.20308607e-05],\n",
       "        [1.06375895e-04],\n",
       "        [2.35350219e-04],\n",
       "        [4.42022737e-04],\n",
       "        [2.29667483e-04],\n",
       "        [2.20397766e-04],\n",
       "        [3.12595125e-04],\n",
       "        [2.43836513e-04],\n",
       "        [2.81189342e-04],\n",
       "        [3.14190491e-04],\n",
       "        [3.21317354e-04],\n",
       "        [2.40542073e-04],\n",
       "        [2.68058683e-04],\n",
       "        [2.66576675e-04],\n",
       "        [2.54635483e-04],\n",
       "        [2.44780395e-04],\n",
       "        [4.09049819e-04],\n",
       "        [4.13156058e-04],\n",
       "        [4.69218286e-04],\n",
       "        [6.15231455e-04],\n",
       "        [6.72171452e-04],\n",
       "        [5.90895927e-04],\n",
       "        [6.20026772e-04],\n",
       "        [5.87412509e-04],\n",
       "        [6.20810051e-04],\n",
       "        [6.02808744e-04],\n",
       "        [7.46792127e-04],\n",
       "        [7.67115906e-04],\n",
       "        [8.10717685e-04],\n",
       "        [7.91602386e-04],\n",
       "        [7.06484788e-04],\n",
       "        [6.73899045e-04],\n",
       "        [7.16453090e-04],\n",
       "        [7.56099582e-04],\n",
       "        [7.08070648e-04],\n",
       "        [4.32375352e-04],\n",
       "        [4.76071620e-04],\n",
       "        [4.83821447e-04],\n",
       "        [4.67547444e-04],\n",
       "        [5.42451299e-04],\n",
       "        [5.30934875e-04],\n",
       "        [3.31332900e-04],\n",
       "        [3.37015636e-04],\n",
       "        [3.59057213e-04],\n",
       "        [3.44869458e-04],\n",
       "        [3.99326958e-04],\n",
       "        [3.04127700e-04],\n",
       "        [3.49560924e-04],\n",
       "        [3.18391075e-04],\n",
       "        [3.47163265e-04],\n",
       "        [4.01280979e-04],\n",
       "        [4.13713053e-04],\n",
       "        [4.07813252e-04],\n",
       "        [4.72956363e-04],\n",
       "        [4.24757464e-04],\n",
       "        [4.02932808e-04],\n",
       "        [3.25923981e-04],\n",
       "        [3.13218090e-04],\n",
       "        [2.41438854e-04],\n",
       "        [2.45969862e-04],\n",
       "        [2.42203409e-04],\n",
       "        [1.33024100e-04],\n",
       "        [8.17854197e-05],\n",
       "        [1.25906456e-04],\n",
       "        [1.70650601e-04],\n",
       "        [1.16929424e-04],\n",
       "        [1.21403824e-04],\n",
       "        [1.14267456e-04],\n",
       "        [1.33392261e-04],\n",
       "        [2.33858704e-04],\n",
       "        [2.23541110e-04],\n",
       "        [2.45120325e-04],\n",
       "        [1.96090613e-04],\n",
       "        [1.50043788e-04],\n",
       "        [8.43435367e-05],\n",
       "        [1.77381070e-04],\n",
       "        [1.44993523e-04],\n",
       "        [1.44549886e-04],\n",
       "        [2.42127933e-04],\n",
       "        [2.03746095e-04],\n",
       "        [2.30658610e-04],\n",
       "        [2.81897289e-04],\n",
       "        [2.69248150e-04],\n",
       "        [2.41901361e-04],\n",
       "        [1.82063173e-04],\n",
       "        [2.53351671e-04],\n",
       "        [3.14983421e-04],\n",
       "        [2.95811372e-04],\n",
       "        [2.81312063e-04],\n",
       "        [2.98888746e-04],\n",
       "        [2.89014789e-04],\n",
       "        [2.44317888e-04],\n",
       "        [2.49528611e-04],\n",
       "        [2.55909788e-04],\n",
       "        [2.42203409e-04],\n",
       "        [2.48329782e-04],\n",
       "        [2.13648428e-04],\n",
       "        [2.02500166e-04],\n",
       "        [2.22049739e-04]]),\n",
       " array([0.00023457]))"
      ]
     },
     "execution_count": 19,
     "metadata": {},
     "output_type": "execute_result"
    }
   ],
   "source": [
    "x_data[0], y_data[0]"
   ]
  },
  {
   "cell_type": "code",
   "execution_count": 20,
   "id": "92a94c14-843d-43c2-b4d7-a67be6ba44b8",
   "metadata": {
    "tags": []
   },
   "outputs": [],
   "source": [
    "len_train = int(len(x_data)*0.9)\n",
    "x_train = x_data[:len_train]\n",
    "y_train = y_data[:len_train]\n",
    "\n",
    "x_test = x_data[len_train:]\n",
    "y_test = y_data[len_train:]\n"
   ]
  },
  {
   "cell_type": "code",
   "execution_count": 21,
   "id": "b9118e23-5b8e-4bb9-ae0e-b10c918083c6",
   "metadata": {
    "tags": []
   },
   "outputs": [
    {
     "name": "stdout",
     "output_type": "stream",
     "text": [
      "(3197, 100, 1)\n",
      "(3197, 1)\n",
      "(356, 100, 1)\n",
      "(356, 1)\n"
     ]
    }
   ],
   "source": [
    "print(x_train.shape)\n",
    "print(y_train.shape)\n",
    "print(x_test.shape)\n",
    "print(y_test.shape)"
   ]
  },
  {
   "cell_type": "code",
   "execution_count": 22,
   "id": "e289362b-b353-43ff-9b46-a229af7444a8",
   "metadata": {
    "tags": []
   },
   "outputs": [
    {
     "name": "stderr",
     "output_type": "stream",
     "text": [
      "C:\\Users\\hp\\AppData\\Local\\Programs\\Python\\Python312\\Lib\\site-packages\\keras\\src\\layers\\rnn\\rnn.py:204: UserWarning: Do not pass an `input_shape`/`input_dim` argument to a layer. When using Sequential models, prefer using an `Input(shape)` object as the first layer in the model instead.\n",
      "  super().__init__(**kwargs)\n"
     ]
    }
   ],
   "source": [
    "from keras.models import Sequential\n",
    "from keras.layers import Dense, LSTM\n",
    "\n",
    "model = Sequential()\n",
    "\n",
    "model.add(LSTM(128, return_sequences = True, input_shape = (x_train.shape[1],1)))\n",
    "\n",
    "model.add(LSTM(64, return_sequences = False))\n",
    "\n",
    "model.add(Dense(25))\n",
    "\n",
    "model.add(Dense(1))"
   ]
  },
  {
   "cell_type": "code",
   "execution_count": 23,
   "id": "053140a2-3fb4-4db2-bd1a-d3e689d33ecf",
   "metadata": {
    "tags": []
   },
   "outputs": [
    {
     "data": {
      "text/html": [
       "<pre style=\"white-space:pre;overflow-x:auto;line-height:normal;font-family:Menlo,'DejaVu Sans Mono',consolas,'Courier New',monospace\"><span style=\"font-weight: bold\">Model: \"sequential\"</span>\n",
       "</pre>\n"
      ],
      "text/plain": [
       "\u001b[1mModel: \"sequential\"\u001b[0m\n"
      ]
     },
     "metadata": {},
     "output_type": "display_data"
    },
    {
     "data": {
      "text/html": [
       "<pre style=\"white-space:pre;overflow-x:auto;line-height:normal;font-family:Menlo,'DejaVu Sans Mono',consolas,'Courier New',monospace\">┏━━━━━━━━━━━━━━━━━━━━━━━━━━━━━━━━━━━━━━┳━━━━━━━━━━━━━━━━━━━━━━━━━━━━━┳━━━━━━━━━━━━━━━━━┓\n",
       "┃<span style=\"font-weight: bold\"> Layer (type)                         </span>┃<span style=\"font-weight: bold\"> Output Shape                </span>┃<span style=\"font-weight: bold\">         Param # </span>┃\n",
       "┡━━━━━━━━━━━━━━━━━━━━━━━━━━━━━━━━━━━━━━╇━━━━━━━━━━━━━━━━━━━━━━━━━━━━━╇━━━━━━━━━━━━━━━━━┩\n",
       "│ lstm (<span style=\"color: #0087ff; text-decoration-color: #0087ff\">LSTM</span>)                          │ (<span style=\"color: #00d7ff; text-decoration-color: #00d7ff\">None</span>, <span style=\"color: #00af00; text-decoration-color: #00af00\">100</span>, <span style=\"color: #00af00; text-decoration-color: #00af00\">128</span>)            │          <span style=\"color: #00af00; text-decoration-color: #00af00\">66,560</span> │\n",
       "├──────────────────────────────────────┼─────────────────────────────┼─────────────────┤\n",
       "│ lstm_1 (<span style=\"color: #0087ff; text-decoration-color: #0087ff\">LSTM</span>)                        │ (<span style=\"color: #00d7ff; text-decoration-color: #00d7ff\">None</span>, <span style=\"color: #00af00; text-decoration-color: #00af00\">64</span>)                  │          <span style=\"color: #00af00; text-decoration-color: #00af00\">49,408</span> │\n",
       "├──────────────────────────────────────┼─────────────────────────────┼─────────────────┤\n",
       "│ dense (<span style=\"color: #0087ff; text-decoration-color: #0087ff\">Dense</span>)                        │ (<span style=\"color: #00d7ff; text-decoration-color: #00d7ff\">None</span>, <span style=\"color: #00af00; text-decoration-color: #00af00\">25</span>)                  │           <span style=\"color: #00af00; text-decoration-color: #00af00\">1,625</span> │\n",
       "├──────────────────────────────────────┼─────────────────────────────┼─────────────────┤\n",
       "│ dense_1 (<span style=\"color: #0087ff; text-decoration-color: #0087ff\">Dense</span>)                      │ (<span style=\"color: #00d7ff; text-decoration-color: #00d7ff\">None</span>, <span style=\"color: #00af00; text-decoration-color: #00af00\">1</span>)                   │              <span style=\"color: #00af00; text-decoration-color: #00af00\">26</span> │\n",
       "└──────────────────────────────────────┴─────────────────────────────┴─────────────────┘\n",
       "</pre>\n"
      ],
      "text/plain": [
       "┏━━━━━━━━━━━━━━━━━━━━━━━━━━━━━━━━━━━━━━┳━━━━━━━━━━━━━━━━━━━━━━━━━━━━━┳━━━━━━━━━━━━━━━━━┓\n",
       "┃\u001b[1m \u001b[0m\u001b[1mLayer (type)                        \u001b[0m\u001b[1m \u001b[0m┃\u001b[1m \u001b[0m\u001b[1mOutput Shape               \u001b[0m\u001b[1m \u001b[0m┃\u001b[1m \u001b[0m\u001b[1m        Param #\u001b[0m\u001b[1m \u001b[0m┃\n",
       "┡━━━━━━━━━━━━━━━━━━━━━━━━━━━━━━━━━━━━━━╇━━━━━━━━━━━━━━━━━━━━━━━━━━━━━╇━━━━━━━━━━━━━━━━━┩\n",
       "│ lstm (\u001b[38;5;33mLSTM\u001b[0m)                          │ (\u001b[38;5;45mNone\u001b[0m, \u001b[38;5;34m100\u001b[0m, \u001b[38;5;34m128\u001b[0m)            │          \u001b[38;5;34m66,560\u001b[0m │\n",
       "├──────────────────────────────────────┼─────────────────────────────┼─────────────────┤\n",
       "│ lstm_1 (\u001b[38;5;33mLSTM\u001b[0m)                        │ (\u001b[38;5;45mNone\u001b[0m, \u001b[38;5;34m64\u001b[0m)                  │          \u001b[38;5;34m49,408\u001b[0m │\n",
       "├──────────────────────────────────────┼─────────────────────────────┼─────────────────┤\n",
       "│ dense (\u001b[38;5;33mDense\u001b[0m)                        │ (\u001b[38;5;45mNone\u001b[0m, \u001b[38;5;34m25\u001b[0m)                  │           \u001b[38;5;34m1,625\u001b[0m │\n",
       "├──────────────────────────────────────┼─────────────────────────────┼─────────────────┤\n",
       "│ dense_1 (\u001b[38;5;33mDense\u001b[0m)                      │ (\u001b[38;5;45mNone\u001b[0m, \u001b[38;5;34m1\u001b[0m)                   │              \u001b[38;5;34m26\u001b[0m │\n",
       "└──────────────────────────────────────┴─────────────────────────────┴─────────────────┘\n"
      ]
     },
     "metadata": {},
     "output_type": "display_data"
    },
    {
     "data": {
      "text/html": [
       "<pre style=\"white-space:pre;overflow-x:auto;line-height:normal;font-family:Menlo,'DejaVu Sans Mono',consolas,'Courier New',monospace\"><span style=\"font-weight: bold\"> Total params: </span><span style=\"color: #00af00; text-decoration-color: #00af00\">117,619</span> (459.45 KB)\n",
       "</pre>\n"
      ],
      "text/plain": [
       "\u001b[1m Total params: \u001b[0m\u001b[38;5;34m117,619\u001b[0m (459.45 KB)\n"
      ]
     },
     "metadata": {},
     "output_type": "display_data"
    },
    {
     "data": {
      "text/html": [
       "<pre style=\"white-space:pre;overflow-x:auto;line-height:normal;font-family:Menlo,'DejaVu Sans Mono',consolas,'Courier New',monospace\"><span style=\"font-weight: bold\"> Trainable params: </span><span style=\"color: #00af00; text-decoration-color: #00af00\">117,619</span> (459.45 KB)\n",
       "</pre>\n"
      ],
      "text/plain": [
       "\u001b[1m Trainable params: \u001b[0m\u001b[38;5;34m117,619\u001b[0m (459.45 KB)\n"
      ]
     },
     "metadata": {},
     "output_type": "display_data"
    },
    {
     "data": {
      "text/html": [
       "<pre style=\"white-space:pre;overflow-x:auto;line-height:normal;font-family:Menlo,'DejaVu Sans Mono',consolas,'Courier New',monospace\"><span style=\"font-weight: bold\"> Non-trainable params: </span><span style=\"color: #00af00; text-decoration-color: #00af00\">0</span> (0.00 B)\n",
       "</pre>\n"
      ],
      "text/plain": [
       "\u001b[1m Non-trainable params: \u001b[0m\u001b[38;5;34m0\u001b[0m (0.00 B)\n"
      ]
     },
     "metadata": {},
     "output_type": "display_data"
    }
   ],
   "source": [
    "model.summary()"
   ]
  },
  {
   "cell_type": "code",
   "execution_count": 24,
   "id": "630f8e94-bd4c-4ddf-8fb3-31ca906c225c",
   "metadata": {
    "tags": []
   },
   "outputs": [],
   "source": [
    "model.compile(optimizer='adam', loss='mean_squared_error')"
   ]
  },
  {
   "cell_type": "code",
   "execution_count": 25,
   "id": "5fef92d0-bf5c-48bd-ba06-b98ce01edad9",
   "metadata": {
    "tags": []
   },
   "outputs": [
    {
     "name": "stdout",
     "output_type": "stream",
     "text": [
      "Epoch 1/10\n",
      "\u001b[1m640/640\u001b[0m \u001b[32m━━━━━━━━━━━━━━━━━━━━\u001b[0m\u001b[37m\u001b[0m \u001b[1m40s\u001b[0m 55ms/step - loss: 0.0016\n",
      "Epoch 2/10\n",
      "\u001b[1m640/640\u001b[0m \u001b[32m━━━━━━━━━━━━━━━━━━━━\u001b[0m\u001b[37m\u001b[0m \u001b[1m34s\u001b[0m 53ms/step - loss: 2.5284e-04\n",
      "Epoch 3/10\n",
      "\u001b[1m640/640\u001b[0m \u001b[32m━━━━━━━━━━━━━━━━━━━━\u001b[0m\u001b[37m\u001b[0m \u001b[1m34s\u001b[0m 54ms/step - loss: 1.5409e-04\n",
      "Epoch 4/10\n",
      "\u001b[1m640/640\u001b[0m \u001b[32m━━━━━━━━━━━━━━━━━━━━\u001b[0m\u001b[37m\u001b[0m \u001b[1m35s\u001b[0m 54ms/step - loss: 2.1205e-04\n",
      "Epoch 5/10\n",
      "\u001b[1m640/640\u001b[0m \u001b[32m━━━━━━━━━━━━━━━━━━━━\u001b[0m\u001b[37m\u001b[0m \u001b[1m34s\u001b[0m 53ms/step - loss: 1.1297e-04\n",
      "Epoch 6/10\n",
      "\u001b[1m640/640\u001b[0m \u001b[32m━━━━━━━━━━━━━━━━━━━━\u001b[0m\u001b[37m\u001b[0m \u001b[1m35s\u001b[0m 55ms/step - loss: 9.8738e-05\n",
      "Epoch 7/10\n",
      "\u001b[1m640/640\u001b[0m \u001b[32m━━━━━━━━━━━━━━━━━━━━\u001b[0m\u001b[37m\u001b[0m \u001b[1m35s\u001b[0m 54ms/step - loss: 9.3058e-05\n",
      "Epoch 8/10\n",
      "\u001b[1m640/640\u001b[0m \u001b[32m━━━━━━━━━━━━━━━━━━━━\u001b[0m\u001b[37m\u001b[0m \u001b[1m36s\u001b[0m 56ms/step - loss: 9.8275e-05\n",
      "Epoch 9/10\n",
      "\u001b[1m640/640\u001b[0m \u001b[32m━━━━━━━━━━━━━━━━━━━━\u001b[0m\u001b[37m\u001b[0m \u001b[1m35s\u001b[0m 54ms/step - loss: 9.9490e-05\n",
      "Epoch 10/10\n",
      "\u001b[1m640/640\u001b[0m \u001b[32m━━━━━━━━━━━━━━━━━━━━\u001b[0m\u001b[37m\u001b[0m \u001b[1m36s\u001b[0m 55ms/step - loss: 9.7683e-05\n"
     ]
    },
    {
     "data": {
      "text/plain": [
       "<keras.src.callbacks.history.History at 0x1d973c8c7d0>"
      ]
     },
     "execution_count": 25,
     "metadata": {},
     "output_type": "execute_result"
    }
   ],
   "source": [
    "model.fit(x_train, y_train, batch_size = 5, epochs=10)"
   ]
  },
  {
   "cell_type": "code",
   "execution_count": 26,
   "id": "bfe6bd78-5f67-4f4a-bd27-2e35b1d2d33f",
   "metadata": {
    "tags": []
   },
   "outputs": [
    {
     "name": "stdout",
     "output_type": "stream",
     "text": [
      "\u001b[1m12/12\u001b[0m \u001b[32m━━━━━━━━━━━━━━━━━━━━\u001b[0m\u001b[37m\u001b[0m \u001b[1m1s\u001b[0m 65ms/step \n"
     ]
    },
    {
     "data": {
      "text/plain": [
       "array([[0.5125664 ],\n",
       "       [0.51741904],\n",
       "       [0.5128037 ],\n",
       "       [0.5075919 ],\n",
       "       [0.50178564],\n",
       "       [0.5098909 ],\n",
       "       [0.51155514],\n",
       "       [0.5396801 ],\n",
       "       [0.5657926 ],\n",
       "       [0.62194604],\n",
       "       [0.60723406],\n",
       "       [0.6217831 ],\n",
       "       [0.61544997],\n",
       "       [0.6269744 ],\n",
       "       [0.6797248 ],\n",
       "       [0.6275831 ],\n",
       "       [0.65642434],\n",
       "       [0.66081405],\n",
       "       [0.6753927 ],\n",
       "       [0.6760736 ],\n",
       "       [0.6816462 ],\n",
       "       [0.71439594],\n",
       "       [0.7041069 ],\n",
       "       [0.723185  ],\n",
       "       [0.70198137],\n",
       "       [0.6827058 ],\n",
       "       [0.6397983 ],\n",
       "       [0.6754157 ],\n",
       "       [0.6624629 ],\n",
       "       [0.6055563 ],\n",
       "       [0.6730458 ],\n",
       "       [0.64173514],\n",
       "       [0.62872064],\n",
       "       [0.6321873 ],\n",
       "       [0.6655467 ],\n",
       "       [0.69297194],\n",
       "       [0.6921966 ],\n",
       "       [0.68720704],\n",
       "       [0.7011338 ],\n",
       "       [0.6897909 ],\n",
       "       [0.6879697 ],\n",
       "       [0.7054847 ],\n",
       "       [0.6855932 ],\n",
       "       [0.6421709 ],\n",
       "       [0.65073806],\n",
       "       [0.6757021 ],\n",
       "       [0.6671774 ],\n",
       "       [0.6804593 ],\n",
       "       [0.6844652 ],\n",
       "       [0.709258  ],\n",
       "       [0.68005365],\n",
       "       [0.6991185 ],\n",
       "       [0.6904289 ],\n",
       "       [0.66072595],\n",
       "       [0.62711024],\n",
       "       [0.64883775],\n",
       "       [0.62214005],\n",
       "       [0.62914914],\n",
       "       [0.60202897],\n",
       "       [0.6277337 ],\n",
       "       [0.6296646 ],\n",
       "       [0.6430174 ],\n",
       "       [0.6419501 ],\n",
       "       [0.6628368 ],\n",
       "       [0.65668947],\n",
       "       [0.63494873],\n",
       "       [0.6380886 ],\n",
       "       [0.62918293],\n",
       "       [0.6260993 ],\n",
       "       [0.62275356],\n",
       "       [0.6305579 ],\n",
       "       [0.5967317 ],\n",
       "       [0.57447785],\n",
       "       [0.58344615],\n",
       "       [0.6217761 ],\n",
       "       [0.6314727 ],\n",
       "       [0.6339689 ],\n",
       "       [0.62515384],\n",
       "       [0.6169583 ],\n",
       "       [0.604906  ],\n",
       "       [0.62436503],\n",
       "       [0.59931666],\n",
       "       [0.60113376],\n",
       "       [0.60706633],\n",
       "       [0.62206966],\n",
       "       [0.6075997 ],\n",
       "       [0.65835035],\n",
       "       [0.6440346 ],\n",
       "       [0.6656405 ],\n",
       "       [0.6621393 ],\n",
       "       [0.6554646 ],\n",
       "       [0.7107794 ],\n",
       "       [0.69109917],\n",
       "       [0.6830252 ],\n",
       "       [0.66971403],\n",
       "       [0.67642224],\n",
       "       [0.68301255],\n",
       "       [0.6744401 ],\n",
       "       [0.68481714],\n",
       "       [0.6718813 ],\n",
       "       [0.665738  ],\n",
       "       [0.6743967 ],\n",
       "       [0.66428083],\n",
       "       [0.6678957 ],\n",
       "       [0.6679674 ],\n",
       "       [0.6795484 ],\n",
       "       [0.6977456 ],\n",
       "       [0.70209175],\n",
       "       [0.6985902 ],\n",
       "       [0.6835062 ],\n",
       "       [0.6840981 ],\n",
       "       [0.6869539 ],\n",
       "       [0.6850643 ],\n",
       "       [0.6618556 ],\n",
       "       [0.6735983 ],\n",
       "       [0.6561428 ],\n",
       "       [0.6502432 ],\n",
       "       [0.65236944],\n",
       "       [0.6571498 ],\n",
       "       [0.65566975],\n",
       "       [0.6419588 ],\n",
       "       [0.6412678 ],\n",
       "       [0.6396981 ],\n",
       "       [0.6322599 ],\n",
       "       [0.63454974],\n",
       "       [0.6231166 ],\n",
       "       [0.5938503 ],\n",
       "       [0.61106884],\n",
       "       [0.5993085 ],\n",
       "       [0.6089851 ],\n",
       "       [0.5952497 ],\n",
       "       [0.60235214],\n",
       "       [0.6204873 ],\n",
       "       [0.62182754],\n",
       "       [0.6137788 ],\n",
       "       [0.59491396],\n",
       "       [0.562598  ],\n",
       "       [0.5598302 ],\n",
       "       [0.57562447],\n",
       "       [0.550515  ],\n",
       "       [0.56070215],\n",
       "       [0.57343686],\n",
       "       [0.57114196],\n",
       "       [0.56785804],\n",
       "       [0.57368094],\n",
       "       [0.5870906 ],\n",
       "       [0.60283977],\n",
       "       [0.6450845 ],\n",
       "       [0.645527  ],\n",
       "       [0.6358462 ],\n",
       "       [0.6342009 ],\n",
       "       [0.6620497 ],\n",
       "       [0.6641803 ],\n",
       "       [0.6747578 ],\n",
       "       [0.6672761 ],\n",
       "       [0.64996386],\n",
       "       [0.6447166 ],\n",
       "       [0.6485311 ],\n",
       "       [0.6707421 ],\n",
       "       [0.66824144],\n",
       "       [0.6739898 ],\n",
       "       [0.6581547 ],\n",
       "       [0.65301347],\n",
       "       [0.6361252 ],\n",
       "       [0.6450064 ],\n",
       "       [0.6026648 ],\n",
       "       [0.5982236 ],\n",
       "       [0.571098  ],\n",
       "       [0.5308211 ],\n",
       "       [0.55215055],\n",
       "       [0.54134756],\n",
       "       [0.61127824],\n",
       "       [0.6016865 ],\n",
       "       [0.60532945],\n",
       "       [0.5820817 ],\n",
       "       [0.58937454],\n",
       "       [0.6009205 ],\n",
       "       [0.58102536],\n",
       "       [0.56980056],\n",
       "       [0.58292025],\n",
       "       [0.58808106],\n",
       "       [0.5781163 ],\n",
       "       [0.5890167 ],\n",
       "       [0.58344585],\n",
       "       [0.6062615 ],\n",
       "       [0.5970115 ],\n",
       "       [0.63662994],\n",
       "       [0.63515574],\n",
       "       [0.63769174],\n",
       "       [0.6217854 ],\n",
       "       [0.5871861 ],\n",
       "       [0.5830513 ],\n",
       "       [0.58557224],\n",
       "       [0.5827021 ],\n",
       "       [0.58170456],\n",
       "       [0.56529504],\n",
       "       [0.584459  ],\n",
       "       [0.56664413],\n",
       "       [0.57363755],\n",
       "       [0.55479264],\n",
       "       [0.5334138 ],\n",
       "       [0.5352604 ],\n",
       "       [0.54187244],\n",
       "       [0.5642014 ],\n",
       "       [0.5708677 ],\n",
       "       [0.56851095],\n",
       "       [0.57679623],\n",
       "       [0.6014412 ],\n",
       "       [0.59474903],\n",
       "       [0.58687633],\n",
       "       [0.57633746],\n",
       "       [0.5976919 ],\n",
       "       [0.61017513],\n",
       "       [0.62348294],\n",
       "       [0.625616  ],\n",
       "       [0.6276995 ],\n",
       "       [0.6299187 ],\n",
       "       [0.6260862 ],\n",
       "       [0.6361963 ],\n",
       "       [0.6229884 ],\n",
       "       [0.64527744],\n",
       "       [0.6497962 ],\n",
       "       [0.6510499 ],\n",
       "       [0.64828694],\n",
       "       [0.6240101 ],\n",
       "       [0.59935826],\n",
       "       [0.5977528 ],\n",
       "       [0.5985076 ],\n",
       "       [0.6124031 ],\n",
       "       [0.61256546],\n",
       "       [0.6210874 ],\n",
       "       [0.6149414 ],\n",
       "       [0.6146241 ],\n",
       "       [0.5984006 ],\n",
       "       [0.59597355],\n",
       "       [0.6180728 ],\n",
       "       [0.62485343],\n",
       "       [0.6216441 ],\n",
       "       [0.6556168 ],\n",
       "       [0.66385025],\n",
       "       [0.67002195],\n",
       "       [0.66702193],\n",
       "       [0.67770296],\n",
       "       [0.67544925],\n",
       "       [0.68219465],\n",
       "       [0.6634817 ],\n",
       "       [0.6647935 ],\n",
       "       [0.65392643],\n",
       "       [0.67317736],\n",
       "       [0.6551871 ],\n",
       "       [0.6613548 ],\n",
       "       [0.67027855],\n",
       "       [0.6911861 ],\n",
       "       [0.7203148 ],\n",
       "       [0.7138773 ],\n",
       "       [0.69200736],\n",
       "       [0.68563133],\n",
       "       [0.682941  ],\n",
       "       [0.6767514 ],\n",
       "       [0.6671535 ],\n",
       "       [0.68450075],\n",
       "       [0.7513568 ],\n",
       "       [0.7481996 ],\n",
       "       [0.7574738 ],\n",
       "       [0.75832933],\n",
       "       [0.7990271 ],\n",
       "       [0.8865897 ],\n",
       "       [0.8633957 ],\n",
       "       [0.8988325 ],\n",
       "       [0.85038   ],\n",
       "       [0.90301764],\n",
       "       [0.8836896 ],\n",
       "       [0.87900054],\n",
       "       [0.88645464],\n",
       "       [0.9052997 ],\n",
       "       [0.9248913 ],\n",
       "       [0.9707525 ],\n",
       "       [0.96638435],\n",
       "       [0.9529163 ],\n",
       "       [0.9577869 ],\n",
       "       [0.8964051 ],\n",
       "       [0.8965228 ],\n",
       "       [0.9418958 ],\n",
       "       [0.92876786],\n",
       "       [0.9550943 ],\n",
       "       [0.93703735],\n",
       "       [0.9520064 ],\n",
       "       [0.93110114],\n",
       "       [0.9378006 ],\n",
       "       [0.96891826],\n",
       "       [0.93554455],\n",
       "       [0.984132  ],\n",
       "       [0.9716477 ],\n",
       "       [0.9913984 ],\n",
       "       [0.9395636 ],\n",
       "       [0.94300044],\n",
       "       [0.99487805],\n",
       "       [0.968719  ],\n",
       "       [0.99355286],\n",
       "       [0.98554033],\n",
       "       [1.0236269 ],\n",
       "       [1.0345576 ],\n",
       "       [1.0330777 ],\n",
       "       [0.9577974 ],\n",
       "       [0.9456957 ],\n",
       "       [0.9495022 ],\n",
       "       [0.9422868 ],\n",
       "       [0.91956383],\n",
       "       [0.9207433 ],\n",
       "       [0.96901995],\n",
       "       [0.96676445],\n",
       "       [0.92698246],\n",
       "       [0.91711855],\n",
       "       [0.9303333 ],\n",
       "       [0.9079073 ],\n",
       "       [0.9030022 ],\n",
       "       [0.9131955 ],\n",
       "       [0.92316484],\n",
       "       [0.951227  ],\n",
       "       [0.96013075],\n",
       "       [0.9601493 ],\n",
       "       [0.9607903 ],\n",
       "       [1.0055448 ],\n",
       "       [0.9311171 ],\n",
       "       [0.926907  ],\n",
       "       [0.89473015],\n",
       "       [0.9279196 ],\n",
       "       [0.9187679 ],\n",
       "       [0.9214069 ],\n",
       "       [0.9216544 ],\n",
       "       [0.94637066],\n",
       "       [0.98914945],\n",
       "       [0.97057366],\n",
       "       [1.0330479 ],\n",
       "       [1.0152174 ],\n",
       "       [0.9791303 ],\n",
       "       [0.9978632 ],\n",
       "       [1.0417441 ],\n",
       "       [0.9989175 ],\n",
       "       [1.0142934 ],\n",
       "       [1.0192062 ],\n",
       "       [1.0165129 ],\n",
       "       [0.9920667 ],\n",
       "       [0.9910164 ],\n",
       "       [0.9815852 ],\n",
       "       [1.0133313 ],\n",
       "       [1.0181729 ],\n",
       "       [0.9893176 ],\n",
       "       [0.97580504],\n",
       "       [0.9426995 ],\n",
       "       [0.99584687],\n",
       "       [0.93983215],\n",
       "       [0.94036555],\n",
       "       [0.9392306 ],\n",
       "       [0.9395336 ],\n",
       "       [0.9397153 ]], dtype=float32)"
      ]
     },
     "execution_count": 26,
     "metadata": {},
     "output_type": "execute_result"
    }
   ],
   "source": [
    "predictions = model.predict(x_test)\n",
    "predictions"
   ]
  },
  {
   "cell_type": "code",
   "execution_count": 27,
   "id": "1a8211c5-f782-4d76-aebb-ba9ef82b4b22",
   "metadata": {
    "tags": []
   },
   "outputs": [
    {
     "data": {
      "text/plain": [
       "array([[ 54509.61 ],\n",
       "       [ 55023.676],\n",
       "       [ 54534.746],\n",
       "       [ 53982.633],\n",
       "       [ 53367.54 ],\n",
       "       [ 54226.18 ],\n",
       "       [ 54402.48 ],\n",
       "       [ 57381.92 ],\n",
       "       [ 60148.168],\n",
       "       [ 66096.83 ],\n",
       "       [ 64538.3  ],\n",
       "       [ 66079.56 ],\n",
       "       [ 65408.66 ],\n",
       "       [ 66629.51 ],\n",
       "       [ 72217.664],\n",
       "       [ 66693.99 ],\n",
       "       [ 69749.31 ],\n",
       "       [ 70214.336],\n",
       "       [ 71758.734],\n",
       "       [ 71830.875],\n",
       "       [ 72421.21 ],\n",
       "       [ 75890.58 ],\n",
       "       [ 74800.6  ],\n",
       "       [ 76821.66 ],\n",
       "       [ 74575.43 ],\n",
       "       [ 72533.46 ],\n",
       "       [ 67988.016],\n",
       "       [ 71761.17 ],\n",
       "       [ 70389.01 ],\n",
       "       [ 64360.566],\n",
       "       [ 71510.12 ],\n",
       "       [ 68193.195],\n",
       "       [ 66814.5  ],\n",
       "       [ 67181.74 ],\n",
       "       [ 70715.695],\n",
       "       [ 73621.01 ],\n",
       "       [ 73538.875],\n",
       "       [ 73010.3  ],\n",
       "       [ 74485.64 ],\n",
       "       [ 73284.02 ],\n",
       "       [ 73091.09 ],\n",
       "       [ 74946.555],\n",
       "       [ 72839.336],\n",
       "       [ 68239.36 ],\n",
       "       [ 69146.93 ],\n",
       "       [ 71791.516],\n",
       "       [ 70888.445],\n",
       "       [ 72295.48 ],\n",
       "       [ 72719.84 ],\n",
       "       [ 75346.29 ],\n",
       "       [ 72252.5  ],\n",
       "       [ 74272.15 ],\n",
       "       [ 73351.61 ],\n",
       "       [ 70205.01 ],\n",
       "       [ 66643.9  ],\n",
       "       [ 68945.62 ],\n",
       "       [ 66117.375],\n",
       "       [ 66859.89 ],\n",
       "       [ 63986.895],\n",
       "       [ 66709.945],\n",
       "       [ 66914.5  ],\n",
       "       [ 68329.04 ],\n",
       "       [ 68215.97 ],\n",
       "       [ 70428.62 ],\n",
       "       [ 69777.4  ],\n",
       "       [ 67474.27 ],\n",
       "       [ 67806.9  ],\n",
       "       [ 66863.47 ],\n",
       "       [ 66536.805],\n",
       "       [ 66182.37 ],\n",
       "       [ 67009.125],\n",
       "       [ 63425.727],\n",
       "       [ 61068.246],\n",
       "       [ 62018.31 ],\n",
       "       [ 66078.82 ],\n",
       "       [ 67106.04 ],\n",
       "       [ 67370.48 ],\n",
       "       [ 66436.65 ],\n",
       "       [ 65568.445],\n",
       "       [ 64291.68 ],\n",
       "       [ 66353.086],\n",
       "       [ 63699.562],\n",
       "       [ 63892.062],\n",
       "       [ 64520.53 ],\n",
       "       [ 66109.92 ],\n",
       "       [ 64577.03 ],\n",
       "       [ 69953.34 ],\n",
       "       [ 68436.8  ],\n",
       "       [ 70725.625],\n",
       "       [ 70354.73 ],\n",
       "       [ 69647.64 ],\n",
       "       [ 75507.46 ],\n",
       "       [ 73422.62 ],\n",
       "       [ 72567.29 ],\n",
       "       [ 71157.164],\n",
       "       [ 71867.805],\n",
       "       [ 72565.95 ],\n",
       "       [ 71657.82 ],\n",
       "       [ 72757.125],\n",
       "       [ 71386.76 ],\n",
       "       [ 70735.96 ],\n",
       "       [ 71653.23 ],\n",
       "       [ 70581.59 ],\n",
       "       [ 70964.54 ],\n",
       "       [ 70972.13 ],\n",
       "       [ 72198.98 ],\n",
       "       [ 74126.71 ],\n",
       "       [ 74587.125],\n",
       "       [ 74216.19 ],\n",
       "       [ 72618.25 ],\n",
       "       [ 72680.95 ],\n",
       "       [ 72983.484],\n",
       "       [ 72783.305],\n",
       "       [ 70324.67 ],\n",
       "       [ 71568.65 ],\n",
       "       [ 69719.484],\n",
       "       [ 69094.51 ],\n",
       "       [ 69319.75 ],\n",
       "       [ 69826.164],\n",
       "       [ 69669.375],\n",
       "       [ 68216.89 ],\n",
       "       [ 68143.69 ],\n",
       "       [ 67977.4  ],\n",
       "       [ 67189.43 ],\n",
       "       [ 67432.01 ],\n",
       "       [ 66220.83 ],\n",
       "       [ 63120.484],\n",
       "       [ 64944.543],\n",
       "       [ 63698.7  ],\n",
       "       [ 64723.8  ],\n",
       "       [ 63268.73 ],\n",
       "       [ 64021.13 ],\n",
       "       [ 65942.29 ],\n",
       "       [ 66084.27 ],\n",
       "       [ 65231.625],\n",
       "       [ 63233.16 ],\n",
       "       [ 59809.742],\n",
       "       [ 59516.535],\n",
       "       [ 61189.715],\n",
       "       [ 58529.723],\n",
       "       [ 59608.906],\n",
       "       [ 60957.97 ],\n",
       "       [ 60714.855],\n",
       "       [ 60366.973],\n",
       "       [ 60983.824],\n",
       "       [ 62404.387],\n",
       "       [ 64072.79 ],\n",
       "       [ 68548.016],\n",
       "       [ 68594.89 ],\n",
       "       [ 67569.35 ],\n",
       "       [ 67395.05 ],\n",
       "       [ 70345.24 ],\n",
       "       [ 70570.945],\n",
       "       [ 71691.48 ],\n",
       "       [ 70898.9  ],\n",
       "       [ 69064.914],\n",
       "       [ 68509.05 ],\n",
       "       [ 68913.13 ],\n",
       "       [ 71266.07 ],\n",
       "       [ 71001.164],\n",
       "       [ 71610.12 ],\n",
       "       [ 69932.62 ],\n",
       "       [ 69387.98 ],\n",
       "       [ 67598.91 ],\n",
       "       [ 68539.74 ],\n",
       "       [ 64054.254],\n",
       "       [ 63583.773],\n",
       "       [ 60710.203],\n",
       "       [ 56443.434],\n",
       "       [ 58702.984],\n",
       "       [ 57558.562],\n",
       "       [ 64966.723],\n",
       "       [ 63950.613],\n",
       "       [ 64336.535],\n",
       "       [ 61873.76 ],\n",
       "       [ 62646.34 ],\n",
       "       [ 63869.47 ],\n",
       "       [ 61761.863],\n",
       "       [ 60572.754],\n",
       "       [ 61962.598],\n",
       "       [ 62509.312],\n",
       "       [ 61453.688],\n",
       "       [ 62608.43 ],\n",
       "       [ 62018.277],\n",
       "       [ 64435.27 ],\n",
       "       [ 63455.367],\n",
       "       [ 67652.375],\n",
       "       [ 67496.2  ],\n",
       "       [ 67764.86 ],\n",
       "       [ 66079.805],\n",
       "       [ 62414.504],\n",
       "       [ 61976.484],\n",
       "       [ 62243.54 ],\n",
       "       [ 61939.49 ],\n",
       "       [ 61833.812],\n",
       "       [ 60095.457],\n",
       "       [ 62125.61 ],\n",
       "       [ 60238.375],\n",
       "       [ 60979.227],\n",
       "       [ 58982.88 ],\n",
       "       [ 56718.098],\n",
       "       [ 56913.715],\n",
       "       [ 57614.168],\n",
       "       [ 59979.605],\n",
       "       [ 60685.805],\n",
       "       [ 60436.137],\n",
       "       [ 61313.848],\n",
       "       [ 63924.63 ],\n",
       "       [ 63215.69 ],\n",
       "       [ 62381.688],\n",
       "       [ 61265.246],\n",
       "       [ 63527.445],\n",
       "       [ 64849.863],\n",
       "       [ 66259.64 ],\n",
       "       [ 66485.61 ],\n",
       "       [ 66706.32 ],\n",
       "       [ 66941.414],\n",
       "       [ 66535.414],\n",
       "       [ 67606.44 ],\n",
       "       [ 66207.25 ],\n",
       "       [ 68568.45 ],\n",
       "       [ 69047.15 ],\n",
       "       [ 69179.97 ],\n",
       "       [ 68887.266],\n",
       "       [ 66315.484],\n",
       "       [ 63703.973],\n",
       "       [ 63533.9  ],\n",
       "       [ 63613.855],\n",
       "       [ 65085.887],\n",
       "       [ 65103.086],\n",
       "       [ 66005.86 ],\n",
       "       [ 65354.785],\n",
       "       [ 65321.168],\n",
       "       [ 63602.52 ],\n",
       "       [ 63345.41 ],\n",
       "       [ 65686.51 ],\n",
       "       [ 66404.82 ],\n",
       "       [ 66064.836],\n",
       "       [ 69663.766],\n",
       "       [ 70535.98 ],\n",
       "       [ 71189.78 ],\n",
       "       [ 70871.98 ],\n",
       "       [ 72003.48 ],\n",
       "       [ 71764.73 ],\n",
       "       [ 72479.305],\n",
       "       [ 70496.94 ],\n",
       "       [ 70635.91 ],\n",
       "       [ 69484.695],\n",
       "       [ 71524.055],\n",
       "       [ 69618.24 ],\n",
       "       [ 70271.62 ],\n",
       "       [ 71216.97 ],\n",
       "       [ 73431.82 ],\n",
       "       [ 76517.59 ],\n",
       "       [ 75835.63 ],\n",
       "       [ 73518.83 ],\n",
       "       [ 72843.375],\n",
       "       [ 72558.375],\n",
       "       [ 71902.67 ],\n",
       "       [ 70885.91 ],\n",
       "       [ 72723.61 ],\n",
       "       [ 79806.055],\n",
       "       [ 79471.59 ],\n",
       "       [ 80454.06 ],\n",
       "       [ 80544.695],\n",
       "       [ 84856.04 ],\n",
       "       [ 94132.055],\n",
       "       [ 91674.98 ],\n",
       "       [ 95429.01 ],\n",
       "       [ 90296.16 ],\n",
       "       [ 95872.36 ],\n",
       "       [ 93824.83 ],\n",
       "       [ 93328.09 ],\n",
       "       [ 94117.75 ],\n",
       "       [ 96114.12 ],\n",
       "       [ 98189.56 ],\n",
       "       [103047.91 ],\n",
       "       [102585.164],\n",
       "       [101158.414],\n",
       "       [101674.39 ],\n",
       "       [ 95171.86 ],\n",
       "       [ 95184.33 ],\n",
       "       [ 99990.945],\n",
       "       [ 98600.234],\n",
       "       [101389.14 ],\n",
       "       [ 99476.266],\n",
       "       [101062.02 ],\n",
       "       [ 98847.41 ],\n",
       "       [ 99557.12 ],\n",
       "       [102853.59 ],\n",
       "       [ 99318.125],\n",
       "       [104465.27 ],\n",
       "       [103142.734],\n",
       "       [105235.05 ],\n",
       "       [ 99743.88 ],\n",
       "       [100107.97 ],\n",
       "       [105603.664],\n",
       "       [102832.484],\n",
       "       [105463.28 ],\n",
       "       [104614.47 ],\n",
       "       [108649.2  ],\n",
       "       [109807.15 ],\n",
       "       [109650.375],\n",
       "       [101675.5  ],\n",
       "       [100393.49 ],\n",
       "       [100796.74 ],\n",
       "       [100032.37 ],\n",
       "       [ 97625.195],\n",
       "       [ 97750.14 ],\n",
       "       [102864.37 ],\n",
       "       [102625.43 ],\n",
       "       [ 98411.09 ],\n",
       "       [ 97366.16 ],\n",
       "       [ 98766.07 ],\n",
       "       [ 96390.35 ],\n",
       "       [ 95870.73 ],\n",
       "       [ 96950.56 ],\n",
       "       [ 98006.67 ],\n",
       "       [100979.46 ],\n",
       "       [101922.68 ],\n",
       "       [101924.65 ],\n",
       "       [101992.55 ],\n",
       "       [106733.66 ],\n",
       "       [ 98849.1  ],\n",
       "       [ 98403.1  ],\n",
       "       [ 94994.42 ],\n",
       "       [ 98510.375],\n",
       "       [ 97540.88 ],\n",
       "       [ 97820.445],\n",
       "       [ 97846.664],\n",
       "       [100465.   ],\n",
       "       [104996.805],\n",
       "       [103028.96 ],\n",
       "       [109647.22 ],\n",
       "       [107758.336],\n",
       "       [103935.42 ],\n",
       "       [105919.9  ],\n",
       "       [110568.46 ],\n",
       "       [106031.59 ],\n",
       "       [107660.445],\n",
       "       [108180.88 ],\n",
       "       [107895.57 ],\n",
       "       [105305.84 ],\n",
       "       [105194.58 ],\n",
       "       [104195.48 ],\n",
       "       [107558.52 ],\n",
       "       [108071.42 ],\n",
       "       [105014.62 ],\n",
       "       [103583.15 ],\n",
       "       [100076.086],\n",
       "       [105706.3  ],\n",
       "       [ 99772.336],\n",
       "       [ 99828.84 ],\n",
       "       [ 99708.61 ],\n",
       "       [ 99740.71 ],\n",
       "       [ 99759.96 ]], dtype=float32)"
      ]
     },
     "execution_count": 27,
     "metadata": {},
     "output_type": "execute_result"
    }
   ],
   "source": [
    "inv_predictions = scaler.inverse_transform(predictions)\n",
    "inv_predictions"
   ]
  },
  {
   "cell_type": "code",
   "execution_count": 28,
   "id": "e52e877a-1922-4843-8494-de44bb6103f7",
   "metadata": {
    "tags": []
   },
   "outputs": [],
   "source": [
    "inv_y_test = scaler.inverse_transform(y_test)"
   ]
  },
  {
   "cell_type": "code",
   "execution_count": 29,
   "id": "81f28fff-4507-4129-9192-bc74ac73ecd3",
   "metadata": {
    "tags": []
   },
   "outputs": [
    {
     "data": {
      "text/plain": [
       "(array([[54509.61 ],\n",
       "        [55023.676],\n",
       "        [54534.746],\n",
       "        [53982.633],\n",
       "        [53367.54 ]], dtype=float32),\n",
       " array([[52284.875     ],\n",
       "        [51839.1796875 ],\n",
       "        [51304.97265625],\n",
       "        [50731.94921875],\n",
       "        [51571.1015625 ]]))"
      ]
     },
     "execution_count": 29,
     "metadata": {},
     "output_type": "execute_result"
    }
   ],
   "source": [
    "inv_predictions[:5], inv_y_test[:5]"
   ]
  },
  {
   "cell_type": "code",
   "execution_count": 30,
   "id": "5d64e1f2-eb3e-4c0a-b4d5-e144e29fceda",
   "metadata": {
    "tags": []
   },
   "outputs": [
    {
     "data": {
      "text/html": [
       "<div>\n",
       "<style scoped>\n",
       "    .dataframe tbody tr th:only-of-type {\n",
       "        vertical-align: middle;\n",
       "    }\n",
       "\n",
       "    .dataframe tbody tr th {\n",
       "        vertical-align: top;\n",
       "    }\n",
       "\n",
       "    .dataframe thead th {\n",
       "        text-align: right;\n",
       "    }\n",
       "</style>\n",
       "<table border=\"1\" class=\"dataframe\">\n",
       "  <thead>\n",
       "    <tr style=\"text-align: right;\">\n",
       "      <th></th>\n",
       "      <th>original_test_data</th>\n",
       "      <th>predictions</th>\n",
       "    </tr>\n",
       "    <tr>\n",
       "      <th>Date</th>\n",
       "      <th></th>\n",
       "      <th></th>\n",
       "    </tr>\n",
       "  </thead>\n",
       "  <tbody>\n",
       "    <tr>\n",
       "      <th>2024-02-20</th>\n",
       "      <td>52284.875000</td>\n",
       "      <td>54509.609375</td>\n",
       "    </tr>\n",
       "    <tr>\n",
       "      <th>2024-02-21</th>\n",
       "      <td>51839.179688</td>\n",
       "      <td>55023.675781</td>\n",
       "    </tr>\n",
       "    <tr>\n",
       "      <th>2024-02-22</th>\n",
       "      <td>51304.972656</td>\n",
       "      <td>54534.746094</td>\n",
       "    </tr>\n",
       "    <tr>\n",
       "      <th>2024-02-23</th>\n",
       "      <td>50731.949219</td>\n",
       "      <td>53982.632812</td>\n",
       "    </tr>\n",
       "    <tr>\n",
       "      <th>2024-02-24</th>\n",
       "      <td>51571.101562</td>\n",
       "      <td>53367.539062</td>\n",
       "    </tr>\n",
       "  </tbody>\n",
       "</table>\n",
       "</div>"
      ],
      "text/plain": [
       "            original_test_data   predictions\n",
       "Date                                        \n",
       "2024-02-20        52284.875000  54509.609375\n",
       "2024-02-21        51839.179688  55023.675781\n",
       "2024-02-22        51304.972656  54534.746094\n",
       "2024-02-23        50731.949219  53982.632812\n",
       "2024-02-24        51571.101562  53367.539062"
      ]
     },
     "execution_count": 30,
     "metadata": {},
     "output_type": "execute_result"
    }
   ],
   "source": [
    "plotting_data = pd.DataFrame({\n",
    "  'original_test_data': inv_y_test.reshape(-1),\n",
    "'predictions': inv_predictions.reshape(-1),\n",
    "},\n",
    "index = Closing_price.index[len_train+100:]\n",
    ")\n",
    "\n",
    "plotting_data.head()"
   ]
  },
  {
   "cell_type": "code",
   "execution_count": 31,
   "id": "68a8892e-0609-405e-84ee-6adaa03efb69",
   "metadata": {
    "tags": []
   },
   "outputs": [
    {
     "data": {
      "text/plain": [
       "Text(0.5, 1.0, 'Close price of Bit Coin')"
      ]
     },
     "execution_count": 31,
     "metadata": {},
     "output_type": "execute_result"
    },
    {
     "data": {
      "text/plain": [
       "<Figure size 640x480 with 0 Axes>"
      ]
     },
     "metadata": {},
     "output_type": "display_data"
    },
    {
     "data": {
      "image/png": "[encoded data removed]",
      "text/plain": [
       "<Figure size 1500x600 with 1 Axes>"
      ]
     },
     "metadata": {},
     "output_type": "display_data"
    }
   ],
   "source": [
    "plt.figure()\n",
    "plotting_data.plot(figsize=(15,6))\n",
    "plt.xlabel('Years')\n",
    "plt.ylabel('Close Price')\n",
    "plt.title('Close price of Bit Coin')"
   ]
  },
  {
   "cell_type": "code",
   "execution_count": 32,
   "id": "8b6aa2f3-fc52-4826-b6f5-5cb1010a7d9d",
   "metadata": {
    "tags": []
   },
   "outputs": [
    {
     "data": {
      "text/html": [
       "<div>\n",
       "<style scoped>\n",
       "    .dataframe tbody tr th:only-of-type {\n",
       "        vertical-align: middle;\n",
       "    }\n",
       "\n",
       "    .dataframe tbody tr th {\n",
       "        vertical-align: top;\n",
       "    }\n",
       "\n",
       "    .dataframe thead th {\n",
       "        text-align: right;\n",
       "    }\n",
       "</style>\n",
       "<table border=\"1\" class=\"dataframe\">\n",
       "  <thead>\n",
       "    <tr style=\"text-align: right;\">\n",
       "      <th></th>\n",
       "      <th>Close</th>\n",
       "    </tr>\n",
       "    <tr>\n",
       "      <th>Date</th>\n",
       "      <th></th>\n",
       "    </tr>\n",
       "  </thead>\n",
       "  <tbody>\n",
       "    <tr>\n",
       "      <th>2025-02-05</th>\n",
       "      <td>96615.445312</td>\n",
       "    </tr>\n",
       "    <tr>\n",
       "      <th>2025-02-06</th>\n",
       "      <td>96593.296875</td>\n",
       "    </tr>\n",
       "    <tr>\n",
       "      <th>2025-02-07</th>\n",
       "      <td>96529.085938</td>\n",
       "    </tr>\n",
       "    <tr>\n",
       "      <th>2025-02-08</th>\n",
       "      <td>96482.453125</td>\n",
       "    </tr>\n",
       "    <tr>\n",
       "      <th>2025-02-10</th>\n",
       "      <td>97030.773438</td>\n",
       "    </tr>\n",
       "  </tbody>\n",
       "</table>\n",
       "</div>"
      ],
      "text/plain": [
       "                   Close\n",
       "Date                    \n",
       "2025-02-05  96615.445312\n",
       "2025-02-06  96593.296875\n",
       "2025-02-07  96529.085938\n",
       "2025-02-08  96482.453125\n",
       "2025-02-10  97030.773438"
      ]
     },
     "execution_count": 32,
     "metadata": {},
     "output_type": "execute_result"
    }
   ],
   "source": [
    "last_100 = Closing_price[['Close']].tail(100)\n",
    "last_100.tail()"
   ]
  },
  {
   "cell_type": "code",
   "execution_count": 33,
   "id": "29c7b699-a0aa-478e-8168-eb778a831915",
   "metadata": {
    "tags": []
   },
   "outputs": [
    {
     "data": {
      "text/plain": [
       "array([[[0.03854898],\n",
       "        [0.02424978],\n",
       "        [0.        ],\n",
       "        [0.04038253],\n",
       "        [0.2041899 ],\n",
       "        [0.21112306],\n",
       "        [0.2278342 ],\n",
       "        [0.23392242],\n",
       "        [0.3303185 ],\n",
       "        [0.54493566],\n",
       "        [0.52548407],\n",
       "        [0.59404722],\n",
       "        [0.50708347],\n",
       "        [0.60661659],\n",
       "        [0.59337713],\n",
       "        [0.57478761],\n",
       "        [0.59296404],\n",
       "        [0.63994877],\n",
       "        [0.69200866],\n",
       "        [0.80066291],\n",
       "        [0.81352167],\n",
       "        [0.78168678],\n",
       "        [0.78785714],\n",
       "        [0.6597352 ],\n",
       "        [0.63059776],\n",
       "        [0.73434724],\n",
       "        [0.72625895],\n",
       "        [0.77344993],\n",
       "        [0.74703868],\n",
       "        [0.76870921],\n",
       "        [0.73181099],\n",
       "        [0.7353811 ],\n",
       "        [0.80754452],\n",
       "        [0.75080851],\n",
       "        [0.83760026],\n",
       "        [0.83766874],\n",
       "        [0.87191128],\n",
       "        [0.77269853],\n",
       "        [0.7529439 ],\n",
       "        [0.87026827],\n",
       "        [0.84079029],\n",
       "        [0.87773477],\n",
       "        [0.87548384],\n",
       "        [0.9518043 ],\n",
       "        [0.99695976],\n",
       "        [0.99985225],\n",
       "        [0.84075218],\n",
       "        [0.77421763],\n",
       "        [0.7811298 ],\n",
       "        [0.76727285],\n",
       "        [0.71197606],\n",
       "        [0.70105398],\n",
       "        [0.80513319],\n",
       "        [0.82138741],\n",
       "        [0.72999047],\n",
       "        [0.68745319],\n",
       "        [0.71351493],\n",
       "        [0.67089817],\n",
       "        [0.64775949],\n",
       "        [0.66826287],\n",
       "        [0.69410247],\n",
       "        [0.75845966],\n",
       "        [0.79029903],\n",
       "        [0.79365882],\n",
       "        [0.79571269],\n",
       "        [0.89387752],\n",
       "        [0.75939427],\n",
       "        [0.71037401],\n",
       "        [0.64360733],\n",
       "        [0.70145077],\n",
       "        [0.69793283],\n",
       "        [0.69589405],\n",
       "        [0.69662669],\n",
       "        [0.74925579],\n",
       "        [0.85282877],\n",
       "        [0.83332725],\n",
       "        [0.95606529],\n",
       "        [0.95465746],\n",
       "        [0.86809213],\n",
       "        [0.89227527],\n",
       "        [1.        ],\n",
       "        [0.93496254],\n",
       "        [0.94297359],\n",
       "        [0.9653896 ],\n",
       "        [0.96265485],\n",
       "        [0.90964425],\n",
       "        [0.89412798],\n",
       "        [0.87442756],\n",
       "        [0.93627051],\n",
       "        [0.96319369],\n",
       "        [0.902406  ],\n",
       "        [0.85677856],\n",
       "        [0.77938327],\n",
       "        [0.87633041],\n",
       "        [0.78415293],\n",
       "        [0.75137914],\n",
       "        [0.75080138],\n",
       "        [0.74912637],\n",
       "        [0.74790991],\n",
       "        [0.76221339]]])"
      ]
     },
     "execution_count": 33,
     "metadata": {},
     "output_type": "execute_result"
    }
   ],
   "source": [
    "last_100 = scaler.fit_transform(last_100['Close'].values.reshape(-1,1)).reshape(1,-1,1)\n",
    "last_100"
   ]
  },
  {
   "cell_type": "code",
   "execution_count": 34,
   "id": "4170c025-6463-4925-99f5-ad24284581af",
   "metadata": {
    "tags": []
   },
   "outputs": [
    {
     "data": {
      "text/plain": [
       "(1, 100, 1)"
      ]
     },
     "execution_count": 34,
     "metadata": {},
     "output_type": "execute_result"
    }
   ],
   "source": [
    "last_100.shape"
   ]
  },
  {
   "cell_type": "code",
   "execution_count": 35,
   "id": "d87a5e5a-667b-4a6a-ba80-a3d2016ac9bc",
   "metadata": {
    "tags": []
   },
   "outputs": [
    {
     "name": "stdout",
     "output_type": "stream",
     "text": [
      "\u001b[1m1/1\u001b[0m \u001b[32m━━━━━━━━━━━━━━━━━━━━\u001b[0m\u001b[37m\u001b[0m \u001b[1m0s\u001b[0m 33ms/step\n"
     ]
    },
    {
     "data": {
      "text/plain": [
       "array([[0.7962894]], dtype=float32)"
      ]
     },
     "execution_count": 35,
     "metadata": {},
     "output_type": "execute_result"
    }
   ],
   "source": [
    "day101 = model.predict(last_100)\n",
    "day101"
   ]
  },
  {
   "cell_type": "code",
   "execution_count": 36,
   "id": "9e80047f-0c58-4ed6-99df-38a9516ef409",
   "metadata": {
    "tags": []
   },
   "outputs": [
    {
     "data": {
      "text/plain": [
       "array([[98337.06]], dtype=float32)"
      ]
     },
     "execution_count": 36,
     "metadata": {},
     "output_type": "execute_result"
    }
   ],
   "source": [
    "scaler.inverse_transform(day101)"
   ]
  },
  {
   "cell_type": "code",
   "execution_count": 37,
   "id": "a5f201b6-cd2c-4dcc-b6fe-6aba71aae3f2",
   "metadata": {
    "tags": []
   },
   "outputs": [],
   "source": [
    "# tmr day 101 ==> past 100\n",
    "#     day 102 ==> day101 + past 99 days\n",
    "#     day 103 ==> day 102 + + day 101 + past 98 days"
   ]
  },
  {
   "cell_type": "code",
   "execution_count": 38,
   "id": "0753ad27-c00e-465f-962f-ce7e8b90ac36",
   "metadata": {
    "tags": []
   },
   "outputs": [],
   "source": [
    "\n",
    "def predict_future(no_of_days, prev_100):\n",
    "    \"\"\"\n",
    "    Predicts future values for the specified number of days.\n",
    "\n",
    "    Args:\n",
    "        no_of_days (int): The number of days to predict into the future.\n",
    "        prev_100 (numpy.ndarray): The previous 100 days' data.\n",
    "\n",
    "    Returns:\n",
    "        list: A list of predicted values for the future days.\n",
    "    \"\"\"\n",
    "\n",
    "    future_predictions = []\n",
    "    for i in range(no_of_days):\n",
    "        # Convert prev_100 to a list to enable append\n",
    "        prev_100_list = prev_100.tolist()\n",
    "        next_day = model.predict(prev_100).tolist()\n",
    "\n",
    "        # Append the prediction and remove the first element to maintain 100 days\n",
    "        prev_100_list[0].append(next_day[0])\n",
    "        prev_100_list = [prev_100_list[0][1:]]\n",
    "\n",
    "        # Convert back to NumPy array with the original shape for the next prediction\n",
    "        prev_100 = np.array(prev_100_list).reshape(1, -1, 1)\n",
    "\n",
    "        future_predictions.append(scaler.inverse_transform(next_day))\n",
    "\n",
    "    return future_predictions"
   ]
  },
  {
   "cell_type": "code",
   "execution_count": 39,
   "id": "b040941a-1ef5-4edf-8883-109f6663f6c3",
   "metadata": {
    "tags": []
   },
   "outputs": [
    {
     "name": "stdout",
     "output_type": "stream",
     "text": [
      "\u001b[1m1/1\u001b[0m \u001b[32m━━━━━━━━━━━━━━━━━━━━\u001b[0m\u001b[37m\u001b[0m \u001b[1m0s\u001b[0m 33ms/step\n",
      "\u001b[1m1/1\u001b[0m \u001b[32m━━━━━━━━━━━━━━━━━━━━\u001b[0m\u001b[37m\u001b[0m \u001b[1m0s\u001b[0m 32ms/step\n",
      "\u001b[1m1/1\u001b[0m \u001b[32m━━━━━━━━━━━━━━━━━━━━\u001b[0m\u001b[37m\u001b[0m \u001b[1m0s\u001b[0m 31ms/step\n",
      "\u001b[1m1/1\u001b[0m \u001b[32m━━━━━━━━━━━━━━━━━━━━\u001b[0m\u001b[37m\u001b[0m \u001b[1m0s\u001b[0m 47ms/step\n",
      "\u001b[1m1/1\u001b[0m \u001b[32m━━━━━━━━━━━━━━━━━━━━\u001b[0m\u001b[37m\u001b[0m \u001b[1m0s\u001b[0m 47ms/step\n",
      "\u001b[1m1/1\u001b[0m \u001b[32m━━━━━━━━━━━━━━━━━━━━\u001b[0m\u001b[37m\u001b[0m \u001b[1m0s\u001b[0m 31ms/step\n",
      "\u001b[1m1/1\u001b[0m \u001b[32m━━━━━━━━━━━━━━━━━━━━\u001b[0m\u001b[37m\u001b[0m \u001b[1m0s\u001b[0m 47ms/step\n",
      "\u001b[1m1/1\u001b[0m \u001b[32m━━━━━━━━━━━━━━━━━━━━\u001b[0m\u001b[37m\u001b[0m \u001b[1m0s\u001b[0m 47ms/step\n",
      "\u001b[1m1/1\u001b[0m \u001b[32m━━━━━━━━━━━━━━━━━━━━\u001b[0m\u001b[37m\u001b[0m \u001b[1m0s\u001b[0m 31ms/step\n",
      "\u001b[1m1/1\u001b[0m \u001b[32m━━━━━━━━━━━━━━━━━━━━\u001b[0m\u001b[37m\u001b[0m \u001b[1m0s\u001b[0m 31ms/step\n",
      "[array([[98337.0685108]]), array([[99861.84774613]]), array([[101541.92679308]]), array([[103382.57241442]]), array([[105360.44405406]]), array([[107442.64329532]]), array([[109588.96451655]]), array([[111753.75710886]]), array([[113887.99105239]]), array([[115941.58525971]])]\n"
     ]
    }
   ],
   "source": [
    "#Now Call the function:\n",
    "no_of_days = 10\n",
    "# last_100 = last_100.tolist()\n",
    "future_results = predict_future(no_of_days, last_100)\n",
    "print(future_results)"
   ]
  },
  {
   "cell_type": "code",
   "execution_count": 40,
   "id": "26a253be-5ec0-483b-9b15-21aec293d9af",
   "metadata": {
    "tags": []
   },
   "outputs": [
    {
     "data": {
      "text/plain": [
       "Text(0.5, 1.0, 'Future Close price of Bit coin')"
      ]
     },
     "execution_count": 40,
     "metadata": {},
     "output_type": "execute_result"
    },
    {
     "data": {
      "text/plain": [
       "<Figure size 640x480 with 0 Axes>"
      ]
     },
     "metadata": {},
     "output_type": "display_data"
    },
    {
     "data": {
      "image/png": "[encoded data removed]",
      "text/plain": [
       "<Figure size 1500x500 with 1 Axes>"
      ]
     },
     "metadata": {},
     "output_type": "display_data"
    }
   ],
   "source": [
    "future_results = np.array(future_results).reshape(-1,1)\n",
    "plt.figure()\n",
    "pd.DataFrame(future_results).plot(figsize=(15,5), marker='o')\n",
    "for i in range(len(future_results)):\n",
    "    plt.text(i,future_results[i],int(future_results[i][0]))\n",
    "plt.xlabel('Future days')\n",
    "plt.ylabel('Close price')\n",
    "plt.title(\"Future Close price of Bit coin\")"
   ]
  },
  {
   "cell_type": "code",
   "execution_count": 41,
   "id": "df0d2a96-e621-4b4f-b578-3d715d70d0a2",
   "metadata": {
    "tags": []
   },
   "outputs": [],
   "source": [
    "model.save(\"coin_model.keras\")"
   ]
  },
  {
   "cell_type": "code",
   "execution_count": null,
   "id": "73efafb8-4627-4151-8150-c691b915fc2a",
   "metadata": {},
   "outputs": [],
   "source": []
  },
  {
   "cell_type": "markdown",
   "id": "7cf95605-9fe6-4aa3-9f09-a1094815d347",
   "metadata": {},
   "source": [
    "### "
   ]
  }
 ],
 "metadata": {
  "kernelspec": {
   "display_name": "Python 3 (ipykernel)",
   "language": "python",
   "name": "python3"
  },
  "language_info": {
   "codemirror_mode": {
    "name": "ipython",
    "version": 3
   },
   "file_extension": ".py",
   "mimetype": "text/x-python",
   "name": "python",
   "nbconvert_exporter": "python",
   "pygments_lexer": "ipython3",
   "version": "3.12.4"
  }
 },
 "nbformat": 4,
 "nbformat_minor": 5
}
